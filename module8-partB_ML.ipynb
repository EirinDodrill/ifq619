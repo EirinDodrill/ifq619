{
 "cells": [
  {
   "cell_type": "markdown",
   "metadata": {},
   "source": [
    "# Module 8 - ML, XAI, and data analytics\n",
    "\n",
    "## Machine Learning - Neural Networks Image Classification"
   ]
  },
  {
   "cell_type": "code",
   "execution_count": 1,
   "metadata": {
    "ExecuteTime": {
     "end_time": "2020-05-22T00:56:51.963488Z",
     "start_time": "2020-05-22T00:56:47.795075Z"
    }
   },
   "outputs": [],
   "source": [
    "import warnings\n",
    "warnings.filterwarnings(\"ignore\")\n",
    "\n",
    "import tensorflow as tf\n",
    "\n",
    "from tensorflow import keras\n",
    "from tensorflow.keras.models import Sequential\n",
    "from tensorflow.keras.layers import Dense, Dropout, Flatten, Conv2D, MaxPool2D\n",
    "from tensorflow.keras.optimizers import SGD\n",
    "import numpy as np\n",
    "import pandas as pd\n",
    "\n",
    "%matplotlib inline\n",
    "import matplotlib.pyplot as plt\n",
    "from matplotlib.pyplot import figure\n",
    "from matplotlib import pyplot\n",
    "import seaborn as sns\n",
    "sns.set()\n",
    "\n",
    "# Numerical Data Manipulation libraries\n",
    "import pandas as pd\n",
    "import numpy as np\n",
    "import statistics as stat\n",
    "\n",
    "\n",
    "# Naive Bayes libraries\n",
    "import sklearn\n",
    "from sklearn.naive_bayes import BernoulliNB      # Naive Bayes Classifier based on a Bernoulli Distribution\n",
    "from sklearn.naive_bayes import GaussianNB       # Naive Bayes Classifier based on a Gaussian Distribution\n",
    "from sklearn.naive_bayes import MultinomialNB    # Naive Bayes Classifier based on a Multinomial Distribution\n",
    "\n",
    "# Machine Learning libraries\n",
    "from sklearn.model_selection import train_test_split\n",
    "from sklearn import metrics\n",
    "from sklearn.metrics import accuracy_score\n",
    "from sklearn.metrics import confusion_matrix\n",
    "\n",
    "# Text Analysis libraries\n",
    "from sklearn.feature_extraction.text import TfidfVectorizer\n",
    "from sklearn.pipeline import make_pipeline"
   ]
  },
  {
   "cell_type": "code",
   "execution_count": 2,
   "metadata": {
    "ExecuteTime": {
     "end_time": "2020-05-22T00:56:51.970684Z",
     "start_time": "2020-05-22T00:56:51.965457Z"
    }
   },
   "outputs": [],
   "source": [
    "def predict( model, image, print_img ):\n",
    "    \n",
    "    if( print_img ):\n",
    "        plt.grid(b=None)\n",
    "        plt.imshow(image)\n",
    "    \n",
    "    n_image = np.expand_dims(image, axis=0)\n",
    "    n_image = np.expand_dims(n_image, axis=3)\n",
    "    \n",
    "    prediction = model.predict( n_image )[0]\n",
    "    \n",
    "    if( prediction >= 0.5 ):\n",
    "        if( print_img ):\n",
    "            print('Model Prediction: CRIMINAL with probability = %.2f' % prediction)\n",
    "        result = 1\n",
    "    else:\n",
    "        if( print_img ):\n",
    "            print('Model Prediction: NOT CRIMINAL with probability = %.2f' % prediction)\n",
    "        result = 0\n",
    "        \n",
    "    return result\n",
    "\n",
    "def check_image_dataset( dataset, class_var ):\n",
    "    \n",
    "    last_pixels = dataset[[\"pixel_4092\", \"pixel_4093\", \"pixel_4094\", \"pixel_4095\", class_var]]\n",
    "    return last_pixels\n",
    "    \n",
    "    \n",
    "    "
   ]
  },
  {
   "cell_type": "code",
   "execution_count": null,
   "metadata": {},
   "outputs": [],
   "source": []
  },
  {
   "cell_type": "markdown",
   "metadata": {},
   "source": [
    "## Neural Networks for Face Recognition"
   ]
  },
  {
   "cell_type": "markdown",
   "metadata": {},
   "source": [
    "In this part of the workshop, we will see how we can apply the principles of Deep Learning to more complex datasets, like images.\n",
    "\n",
    "Let's suppose that we have a dataset with faces of people with / and without crimial records. Like the paper that was presented in last workshop, we are going to try to use a very simple neural network to try to find patterns in faces that are considered criminals from those who are not.\n",
    "\n",
    "Note: this is a toy dataset. It does not represent any reality. We collected a public research dataset with human faces and randomly labelled them as *Criminal* and *Not Criminal* for learning purposes."
   ]
  },
  {
   "cell_type": "code",
   "execution_count": 3,
   "metadata": {
    "ExecuteTime": {
     "end_time": "2020-05-22T00:56:53.386538Z",
     "start_time": "2020-05-22T00:56:51.972667Z"
    }
   },
   "outputs": [],
   "source": [
    "faces_dataset = pd.read_csv('data/dataset_64_v2.csv', delimiter=',')"
   ]
  },
  {
   "cell_type": "code",
   "execution_count": 4,
   "metadata": {
    "ExecuteTime": {
     "end_time": "2020-05-22T00:56:53.403799Z",
     "start_time": "2020-05-22T00:56:53.388144Z"
    }
   },
   "outputs": [
    {
     "data": {
      "text/html": [
       "<div>\n",
       "<style scoped>\n",
       "    .dataframe tbody tr th:only-of-type {\n",
       "        vertical-align: middle;\n",
       "    }\n",
       "\n",
       "    .dataframe tbody tr th {\n",
       "        vertical-align: top;\n",
       "    }\n",
       "\n",
       "    .dataframe thead th {\n",
       "        text-align: right;\n",
       "    }\n",
       "</style>\n",
       "<table border=\"1\" class=\"dataframe\">\n",
       "  <thead>\n",
       "    <tr style=\"text-align: right;\">\n",
       "      <th></th>\n",
       "      <th>pixel_0</th>\n",
       "      <th>pixel_1</th>\n",
       "      <th>pixel_2</th>\n",
       "      <th>pixel_3</th>\n",
       "      <th>pixel_4</th>\n",
       "      <th>pixel_5</th>\n",
       "      <th>pixel_6</th>\n",
       "      <th>pixel_7</th>\n",
       "      <th>pixel_8</th>\n",
       "      <th>pixel_9</th>\n",
       "      <th>...</th>\n",
       "      <th>pixel_4087</th>\n",
       "      <th>pixel_4088</th>\n",
       "      <th>pixel_4089</th>\n",
       "      <th>pixel_4090</th>\n",
       "      <th>pixel_4091</th>\n",
       "      <th>pixel_4092</th>\n",
       "      <th>pixel_4093</th>\n",
       "      <th>pixel_4094</th>\n",
       "      <th>pixel_4095</th>\n",
       "      <th>target</th>\n",
       "    </tr>\n",
       "  </thead>\n",
       "  <tbody>\n",
       "    <tr>\n",
       "      <td>0</td>\n",
       "      <td>253</td>\n",
       "      <td>253</td>\n",
       "      <td>253</td>\n",
       "      <td>253</td>\n",
       "      <td>253</td>\n",
       "      <td>253</td>\n",
       "      <td>253</td>\n",
       "      <td>253</td>\n",
       "      <td>253</td>\n",
       "      <td>253</td>\n",
       "      <td>...</td>\n",
       "      <td>25</td>\n",
       "      <td>39</td>\n",
       "      <td>40</td>\n",
       "      <td>39</td>\n",
       "      <td>42</td>\n",
       "      <td>0</td>\n",
       "      <td>0</td>\n",
       "      <td>0</td>\n",
       "      <td>0</td>\n",
       "      <td>1</td>\n",
       "    </tr>\n",
       "    <tr>\n",
       "      <td>1</td>\n",
       "      <td>89</td>\n",
       "      <td>66</td>\n",
       "      <td>21</td>\n",
       "      <td>16</td>\n",
       "      <td>19</td>\n",
       "      <td>35</td>\n",
       "      <td>47</td>\n",
       "      <td>47</td>\n",
       "      <td>41</td>\n",
       "      <td>36</td>\n",
       "      <td>...</td>\n",
       "      <td>188</td>\n",
       "      <td>187</td>\n",
       "      <td>155</td>\n",
       "      <td>129</td>\n",
       "      <td>163</td>\n",
       "      <td>177</td>\n",
       "      <td>171</td>\n",
       "      <td>169</td>\n",
       "      <td>162</td>\n",
       "      <td>0</td>\n",
       "    </tr>\n",
       "    <tr>\n",
       "      <td>2</td>\n",
       "      <td>237</td>\n",
       "      <td>236</td>\n",
       "      <td>238</td>\n",
       "      <td>239</td>\n",
       "      <td>239</td>\n",
       "      <td>241</td>\n",
       "      <td>241</td>\n",
       "      <td>237</td>\n",
       "      <td>222</td>\n",
       "      <td>193</td>\n",
       "      <td>...</td>\n",
       "      <td>30</td>\n",
       "      <td>30</td>\n",
       "      <td>31</td>\n",
       "      <td>29</td>\n",
       "      <td>33</td>\n",
       "      <td>0</td>\n",
       "      <td>0</td>\n",
       "      <td>0</td>\n",
       "      <td>0</td>\n",
       "      <td>1</td>\n",
       "    </tr>\n",
       "    <tr>\n",
       "      <td>3</td>\n",
       "      <td>218</td>\n",
       "      <td>210</td>\n",
       "      <td>201</td>\n",
       "      <td>207</td>\n",
       "      <td>202</td>\n",
       "      <td>181</td>\n",
       "      <td>172</td>\n",
       "      <td>193</td>\n",
       "      <td>195</td>\n",
       "      <td>201</td>\n",
       "      <td>...</td>\n",
       "      <td>1</td>\n",
       "      <td>1</td>\n",
       "      <td>1</td>\n",
       "      <td>1</td>\n",
       "      <td>1</td>\n",
       "      <td>1</td>\n",
       "      <td>1</td>\n",
       "      <td>1</td>\n",
       "      <td>1</td>\n",
       "      <td>0</td>\n",
       "    </tr>\n",
       "    <tr>\n",
       "      <td>4</td>\n",
       "      <td>143</td>\n",
       "      <td>155</td>\n",
       "      <td>182</td>\n",
       "      <td>187</td>\n",
       "      <td>182</td>\n",
       "      <td>166</td>\n",
       "      <td>113</td>\n",
       "      <td>64</td>\n",
       "      <td>55</td>\n",
       "      <td>59</td>\n",
       "      <td>...</td>\n",
       "      <td>42</td>\n",
       "      <td>56</td>\n",
       "      <td>63</td>\n",
       "      <td>59</td>\n",
       "      <td>60</td>\n",
       "      <td>0</td>\n",
       "      <td>0</td>\n",
       "      <td>0</td>\n",
       "      <td>0</td>\n",
       "      <td>1</td>\n",
       "    </tr>\n",
       "  </tbody>\n",
       "</table>\n",
       "<p>5 rows × 4097 columns</p>\n",
       "</div>"
      ],
      "text/plain": [
       "   pixel_0  pixel_1  pixel_2  pixel_3  pixel_4  pixel_5  pixel_6  pixel_7  \\\n",
       "0      253      253      253      253      253      253      253      253   \n",
       "1       89       66       21       16       19       35       47       47   \n",
       "2      237      236      238      239      239      241      241      237   \n",
       "3      218      210      201      207      202      181      172      193   \n",
       "4      143      155      182      187      182      166      113       64   \n",
       "\n",
       "   pixel_8  pixel_9  ...  pixel_4087  pixel_4088  pixel_4089  pixel_4090  \\\n",
       "0      253      253  ...          25          39          40          39   \n",
       "1       41       36  ...         188         187         155         129   \n",
       "2      222      193  ...          30          30          31          29   \n",
       "3      195      201  ...           1           1           1           1   \n",
       "4       55       59  ...          42          56          63          59   \n",
       "\n",
       "   pixel_4091  pixel_4092  pixel_4093  pixel_4094  pixel_4095  target  \n",
       "0          42           0           0           0           0       1  \n",
       "1         163         177         171         169         162       0  \n",
       "2          33           0           0           0           0       1  \n",
       "3           1           1           1           1           1       0  \n",
       "4          60           0           0           0           0       1  \n",
       "\n",
       "[5 rows x 4097 columns]"
      ]
     },
     "execution_count": 4,
     "metadata": {},
     "output_type": "execute_result"
    }
   ],
   "source": [
    "faces_dataset.head()"
   ]
  },
  {
   "cell_type": "code",
   "execution_count": 5,
   "metadata": {
    "ExecuteTime": {
     "end_time": "2020-05-22T00:56:53.408887Z",
     "start_time": "2020-05-22T00:56:53.405489Z"
    }
   },
   "outputs": [
    {
     "name": "stdout",
     "output_type": "stream",
     "text": [
      "Total number of images in the dataset is: 2142\n",
      "Total number of pixels per image is: 4096\n"
     ]
    }
   ],
   "source": [
    "# total number of images in dataset:\n",
    "num_images = len(faces_dataset)\n",
    "num_pixels = len(faces_dataset.columns) - 1\n",
    "\n",
    "print('Total number of images in the dataset is: ' + str(num_images))\n",
    "print('Total number of pixels per image is: ' + str(num_pixels))"
   ]
  },
  {
   "cell_type": "code",
   "execution_count": 6,
   "metadata": {
    "ExecuteTime": {
     "end_time": "2020-05-22T00:56:53.450204Z",
     "start_time": "2020-05-22T00:56:53.410230Z"
    }
   },
   "outputs": [
    {
     "name": "stdout",
     "output_type": "stream",
     "text": [
      "Criminality distribution:\n",
      "Number of criminals: 1049\n",
      "Number of not criminals: 1093\n"
     ]
    }
   ],
   "source": [
    "# We can also try to understand what is the distribution of criminals / not crimials in our dataset:\n",
    "criminals = faces_dataset[ faces_dataset['target'] == 1 ]\n",
    "not_criminals = faces_dataset[ faces_dataset['target'] == 0 ]\n",
    "\n",
    "print('Criminality distribution:')\n",
    "print('Number of criminals: ' + str(len(criminals)))\n",
    "print('Number of not criminals: ' + str(len(not_criminals)))"
   ]
  },
  {
   "cell_type": "markdown",
   "metadata": {},
   "source": [
    "This dataset is a set of pixels. More precesely, each image corresponds to a row and each image contains a total of 9216 pixels. This means that the image has a size of 96x96. The last colum **target** specifies if the face is associated to someone who has crimial records *target=1* or to someone who does not have any crminal records *target=0*.\n",
    "\n",
    "Let's see if we can visualize the images..."
   ]
  },
  {
   "cell_type": "code",
   "execution_count": 7,
   "metadata": {
    "ExecuteTime": {
     "end_time": "2020-05-22T00:56:55.206395Z",
     "start_time": "2020-05-22T00:56:53.451637Z"
    }
   },
   "outputs": [
    {
     "name": "stdout",
     "output_type": "stream",
     "text": [
      "Image label = NOT CRIMINAL\n"
     ]
    },
    {
     "data": {
      "image/png": "[encoded data removed]",
      "text/plain": [
       "<Figure size 432x288 with 1 Axes>"
      ]
     },
     "metadata": {
      "needs_background": "light"
     },
     "output_type": "display_data"
    }
   ],
   "source": [
    "# getting some images... \n",
    "from skimage.transform import resize\n",
    "import warnings\n",
    "warnings.filterwarnings(\"ignore\")\n",
    "\n",
    "indx = 1\n",
    "image_0 = faces_dataset.iloc[indx,0:num_pixels]\n",
    "\n",
    "# image_0 is a vector with 9216 pixels. In order to convert it into an image,\n",
    "# we need to reshape this vector into a matrix of 96*96 = 9216 pixels\n",
    "\n",
    "image_0 =  np.array(image_0)\n",
    "image_0 = np.reshape(image_0, (64, 64))\n",
    "image_0 = resize(image_0, (128, 128), anti_aliasing=True)\n",
    "\n",
    "# show image\n",
    "plt.imshow(image_0,  cmap=plt.cm.gray )\n",
    "\n",
    "# print target\n",
    "if( faces_dataset.iloc[indx,num_pixels] == 1):\n",
    "    print('Image label = CRIMINAL')\n",
    "else:\n",
    "    print('Image label = NOT CRIMINAL')"
   ]
  },
  {
   "cell_type": "markdown",
   "metadata": {},
   "source": [
    "## Machine Learning for Face Recognition"
   ]
  },
  {
   "cell_type": "markdown",
   "metadata": {},
   "source": [
    "The approach we are going to use for facial recognition is very straight forward but you could check this out in the case of a very complicated problem. Let’s learn how modern face recognition works!\n",
    "\n",
    "The goal here is to get deep neural network to output a person’s face with identification. This means that the neural network needs to be trained to automatically identify different features of a face and calculate numbers based on that. The output of the neural network can be thought of as an identifier for a particular person's face: in this case, if the person represents a criminal or not."
   ]
  },
  {
   "cell_type": "markdown",
   "metadata": {},
   "source": [
    "### Convolutional Neural Network"
   ]
  },
  {
   "cell_type": "markdown",
   "metadata": {},
   "source": [
    "In machine learning, a Convolutional Neural Network (CNN or ConvNet) is a class of artificial neural networks that has successfully been applied to analyzing visual imagery. They have applications in image recognition (facial recognition) and video analysis, recommender systems and natural language processing. Here, facial recognition would be analysed.\n",
    "\n",
    "The name *convolutional* comes preisely from a mathematical operation that is called the *convolution operator*. This operator is able to convolute an image based on a kernel, which can detect vertical edges, horizontal edges,faces, eyes, etc. The following figure shows an example of a convolution:\n",
    "\n",
    "<img src='https://s3-us-west-2.amazonaws.com/static.pyimagesearch.com/keras-conv2d/keras_conv2d_padding.gif' />\n",
    "A 3×3 kernel applied to an image. This animation was contributed to StackOverflow (<a href=\"https://stackoverflow.com/questions/52067833/how-to-plot-an-animated-matrix-in-matplotlib\">source</a>)."
   ]
  },
  {
   "cell_type": "markdown",
   "metadata": {},
   "source": [
    "Just for curiosity, the convolution is highly used in edge detection, we can do this in the following way:\n",
    "   \n",
    "<img src=\"images/edge.png\" />"
   ]
  },
  {
   "cell_type": "code",
   "execution_count": 8,
   "metadata": {
    "ExecuteTime": {
     "end_time": "2020-05-22T00:56:55.810008Z",
     "start_time": "2020-05-22T00:56:55.209830Z"
    }
   },
   "outputs": [],
   "source": [
    "all_images = []\n",
    "\n",
    "WIDTH = 64\n",
    "HEIGHT = 64\n",
    "\n",
    "data = faces_dataset.iloc[:,0:num_pixels]\n",
    "for indx in range(0, len(data)):\n",
    "    \n",
    "    image = np.array(data.iloc[indx,0:num_pixels])\n",
    "    # normalise pixels\n",
    "    temp = np.reshape(image, (WIDTH, HEIGHT))/255.0\n",
    "    all_images.append(temp)\n",
    "\n",
    "# convert structure to array\n",
    "all_images = np.array(all_images)\n"
   ]
  },
  {
   "cell_type": "code",
   "execution_count": 9,
   "metadata": {
    "ExecuteTime": {
     "end_time": "2020-05-22T00:56:55.846181Z",
     "start_time": "2020-05-22T00:56:55.812485Z"
    }
   },
   "outputs": [],
   "source": [
    "# separate your dataset: \n",
    "# put the variable that you wish to classify (the target) in one variable\n",
    "# put your features (the pixels) in another variable\n",
    "X=np.zeros((num_images,WIDTH,HEIGHT,1))\n",
    "X[:,:,:,0]=all_images\n",
    "y = faces_dataset.iloc[:,num_pixels]"
   ]
  },
  {
   "cell_type": "code",
   "execution_count": 10,
   "metadata": {
    "ExecuteTime": {
     "end_time": "2020-05-22T00:56:55.878647Z",
     "start_time": "2020-05-22T00:56:55.847637Z"
    }
   },
   "outputs": [],
   "source": [
    "# separate the dataset into test set and train set\n",
    "X_train, X_test, y_train, y_test = train_test_split( X, y, test_size = 0.3 )"
   ]
  },
  {
   "cell_type": "markdown",
   "metadata": {},
   "source": [
    "There are many layers that can be used in deep learning networks.\n",
    "In image data, we use convolutional layers, and to avoid overfitting, we use MaxPooling and Dropout. \n",
    "Very generaly, MaxPooling is a way to reduce the size of your image through a process of discretization.\n",
    "The Dropout layer corresponds to a random discard of data. This is good, because deep neural networks tend to overfit (or learn the training data by heart). By discarding training elements randomly, we are helping to reduce the overfitting."
   ]
  },
  {
   "cell_type": "code",
   "execution_count": 11,
   "metadata": {
    "ExecuteTime": {
     "end_time": "2020-05-22T00:56:55.976694Z",
     "start_time": "2020-05-22T00:56:55.880211Z"
    }
   },
   "outputs": [],
   "source": [
    "# define model\n",
    "model_deep = Sequential()\n",
    "\n",
    "# add layers\n",
    "model_deep.add(Conv2D(64, (3, 3), padding = 'same', activation='relu', input_shape=(WIDTH, HEIGHT, 1)))\n",
    "model_deep.add(MaxPool2D(pool_size=(2, 2)))\n",
    "model_deep.add(Dropout(0.25))\n",
    "\n",
    "model_deep.add(Conv2D(32, (3, 3), padding = 'same', activation='relu', input_shape=(WIDTH, HEIGHT, 1)))\n",
    "model_deep.add(MaxPool2D(pool_size=(2, 2)))\n",
    "model_deep.add(Dropout(0.25))\n",
    "model_deep.add(Flatten())\n",
    "\n",
    "model_deep.add(Dense(256, activation='tanh'))\n",
    "\n",
    "model_deep.add(Dense(1, activation='sigmoid'))"
   ]
  },
  {
   "cell_type": "code",
   "execution_count": 12,
   "metadata": {
    "ExecuteTime": {
     "end_time": "2020-05-22T00:56:55.981749Z",
     "start_time": "2020-05-22T00:56:55.978295Z"
    }
   },
   "outputs": [
    {
     "name": "stdout",
     "output_type": "stream",
     "text": [
      "Model: \"sequential\"\n",
      "_________________________________________________________________\n",
      "Layer (type)                 Output Shape              Param #   \n",
      "=================================================================\n",
      "conv2d (Conv2D)              (None, 64, 64, 64)        640       \n",
      "_________________________________________________________________\n",
      "max_pooling2d (MaxPooling2D) (None, 32, 32, 64)        0         \n",
      "_________________________________________________________________\n",
      "dropout (Dropout)            (None, 32, 32, 64)        0         \n",
      "_________________________________________________________________\n",
      "conv2d_1 (Conv2D)            (None, 32, 32, 32)        18464     \n",
      "_________________________________________________________________\n",
      "max_pooling2d_1 (MaxPooling2 (None, 16, 16, 32)        0         \n",
      "_________________________________________________________________\n",
      "dropout_1 (Dropout)          (None, 16, 16, 32)        0         \n",
      "_________________________________________________________________\n",
      "flatten (Flatten)            (None, 8192)              0         \n",
      "_________________________________________________________________\n",
      "dense (Dense)                (None, 256)               2097408   \n",
      "_________________________________________________________________\n",
      "dense_1 (Dense)              (None, 1)                 257       \n",
      "=================================================================\n",
      "Total params: 2,116,769\n",
      "Trainable params: 2,116,769\n",
      "Non-trainable params: 0\n",
      "_________________________________________________________________\n"
     ]
    }
   ],
   "source": [
    "# visualise the model\n",
    "model_deep.summary()"
   ]
  },
  {
   "cell_type": "code",
   "execution_count": 13,
   "metadata": {
    "ExecuteTime": {
     "end_time": "2020-05-22T00:56:56.743022Z",
     "start_time": "2020-05-22T00:56:55.983228Z"
    }
   },
   "outputs": [
    {
     "data": {
      "text/plain": [
       "<matplotlib.image.AxesImage at 0x7f8f5885fdd0>"
      ]
     },
     "execution_count": 13,
     "metadata": {},
     "output_type": "execute_result"
    },
    {
     "data": {
      "image/png": "[encoded data removed]",
      "text/plain": [
       "<Figure size 720x1080 with 1 Axes>"
      ]
     },
     "metadata": {
      "needs_background": "light"
     },
     "output_type": "display_data"
    }
   ],
   "source": [
    "# another way of visualising the network\n",
    "\n",
    "from tensorflow.keras.utils import plot_model\n",
    "import matplotlib.image as mpimg\n",
    "\n",
    "plot_model(model_deep, \"model_dnn.png\", show_shapes=True, show_layer_names=False, rankdir='TB', dpi=150)\n",
    "img = mpimg.imread(\"model_dnn.png\")\n",
    "plt.figure(figsize=(10,15))\n",
    "plt.axis('off');\n",
    "plt.imshow(img)\n"
   ]
  },
  {
   "cell_type": "code",
   "execution_count": 14,
   "metadata": {
    "ExecuteTime": {
     "end_time": "2020-05-22T00:56:56.767424Z",
     "start_time": "2020-05-22T00:56:56.744879Z"
    }
   },
   "outputs": [],
   "source": [
    "# compile model\n",
    "# SGD = Stochastic Gradient Descent\n",
    "sgd = SGD(lr=0.1, decay=1e-6, momentum=0.9, nesterov=True)\n",
    "model_deep.compile(loss='mean_squared_error', optimizer='adam', metrics=['accuracy'])"
   ]
  },
  {
   "cell_type": "code",
   "execution_count": 15,
   "metadata": {
    "ExecuteTime": {
     "end_time": "2020-05-22T00:57:35.085002Z",
     "start_time": "2020-05-22T00:56:56.768893Z"
    }
   },
   "outputs": [
    {
     "name": "stdout",
     "output_type": "stream",
     "text": [
      "Train on 1499 samples, validate on 643 samples\n",
      "Epoch 1/10\n",
      "1499/1499 [==============================] - 4s 3ms/sample - loss: 0.2866 - accuracy: 0.4930 - val_loss: 0.2467 - val_accuracy: 0.5941\n",
      "Epoch 2/10\n",
      "1499/1499 [==============================] - 4s 2ms/sample - loss: 0.2232 - accuracy: 0.6604 - val_loss: 0.1505 - val_accuracy: 0.9393\n",
      "Epoch 3/10\n",
      "1499/1499 [==============================] - 4s 3ms/sample - loss: 0.0947 - accuracy: 0.8913 - val_loss: 0.0442 - val_accuracy: 0.9580\n",
      "Epoch 4/10\n",
      "1499/1499 [==============================] - 4s 3ms/sample - loss: 0.0436 - accuracy: 0.9560 - val_loss: 0.0384 - val_accuracy: 0.9487\n",
      "Epoch 5/10\n",
      "1499/1499 [==============================] - 4s 3ms/sample - loss: 0.0395 - accuracy: 0.9526 - val_loss: 0.0268 - val_accuracy: 0.9705\n",
      "Epoch 6/10\n",
      "1499/1499 [==============================] - 4s 3ms/sample - loss: 0.0301 - accuracy: 0.9673 - val_loss: 0.0228 - val_accuracy: 0.9736\n",
      "Epoch 7/10\n",
      "1499/1499 [==============================] - 4s 3ms/sample - loss: 0.0260 - accuracy: 0.9633 - val_loss: 0.0255 - val_accuracy: 0.9705\n",
      "Epoch 8/10\n",
      "1499/1499 [==============================] - 4s 2ms/sample - loss: 0.0254 - accuracy: 0.9686 - val_loss: 0.0251 - val_accuracy: 0.9705\n",
      "Epoch 9/10\n",
      "1499/1499 [==============================] - 4s 2ms/sample - loss: 0.0218 - accuracy: 0.9680 - val_loss: 0.0263 - val_accuracy: 0.9689\n",
      "Epoch 10/10\n",
      "1499/1499 [==============================] - 4s 3ms/sample - loss: 0.0161 - accuracy: 0.9800 - val_loss: 0.0208 - val_accuracy: 0.9720\n"
     ]
    }
   ],
   "source": [
    "# fit model\n",
    "sgd = SGD(lr=0.1, decay=1e-6, momentum=0.9, nesterov=True)\n",
    "history_deep = model_deep.fit(X_train, y_train, validation_data=(X_test, y_test), epochs=10, verbose=1)"
   ]
  },
  {
   "cell_type": "code",
   "execution_count": 16,
   "metadata": {
    "ExecuteTime": {
     "end_time": "2020-05-22T00:57:36.124428Z",
     "start_time": "2020-05-22T00:57:35.086701Z"
    }
   },
   "outputs": [
    {
     "name": "stdout",
     "output_type": "stream",
     "text": [
      "Train: 0.990, Test: 0.972\n"
     ]
    }
   ],
   "source": [
    "# evaluate the model\n",
    "_, train_acc_deep = model_deep.evaluate(X_train, y_train, verbose=0)\n",
    "_, test_acc_deep = model_deep.evaluate(X_test, y_test, verbose=0)\n",
    "print('Train: %.3f, Test: %.3f' % (train_acc_deep, test_acc_deep))"
   ]
  },
  {
   "cell_type": "code",
   "execution_count": 17,
   "metadata": {
    "ExecuteTime": {
     "end_time": "2020-05-22T00:57:36.324505Z",
     "start_time": "2020-05-22T00:57:36.126089Z"
    }
   },
   "outputs": [
    {
     "data": {
      "image/png": "[encoded data removed]",
      "text/plain": [
       "<Figure size 432x288 with 1 Axes>"
      ]
     },
     "metadata": {
      "needs_background": "light"
     },
     "output_type": "display_data"
    }
   ],
   "source": [
    "# plot training history\n",
    "pyplot.plot(history_deep.history['accuracy'], label='train')\n",
    "pyplot.plot(history_deep.history['val_accuracy'], label='test')\n",
    "pyplot.ylabel('accuracy', fontsize=12)\n",
    "pyplot.xlabel('iterations', fontsize=12)\n",
    "pyplot.legend()\n",
    "pyplot.show()"
   ]
  },
  {
   "cell_type": "code",
   "execution_count": 18,
   "metadata": {
    "ExecuteTime": {
     "end_time": "2020-05-22T00:57:36.570083Z",
     "start_time": "2020-05-22T00:57:36.325852Z"
    }
   },
   "outputs": [
    {
     "name": "stdout",
     "output_type": "stream",
     "text": [
      "Model Prediction: CRIMINAL with probability = 1.00\n"
     ]
    },
    {
     "data": {
      "text/plain": [
       "1"
      ]
     },
     "execution_count": 18,
     "metadata": {},
     "output_type": "execute_result"
    },
    {
     "data": {
      "image/png": "[encoded data removed]",
      "text/plain": [
       "<Figure size 432x288 with 1 Axes>"
      ]
     },
     "metadata": {
      "needs_background": "light"
     },
     "output_type": "display_data"
    }
   ],
   "source": [
    "indx = 0\n",
    "image = all_images[indx,:,:]\n",
    "predict( model_deep, image, True )"
   ]
  },
  {
   "cell_type": "code",
   "execution_count": 19,
   "metadata": {
    "ExecuteTime": {
     "end_time": "2020-05-22T00:57:36.781433Z",
     "start_time": "2020-05-22T00:57:36.572171Z"
    }
   },
   "outputs": [
    {
     "name": "stdout",
     "output_type": "stream",
     "text": [
      "Model Prediction: NOT CRIMINAL with probability = 0.00\n"
     ]
    },
    {
     "data": {
      "text/plain": [
       "0"
      ]
     },
     "execution_count": 19,
     "metadata": {},
     "output_type": "execute_result"
    },
    {
     "data": {
      "image/png": "[encoded data removed]",
      "text/plain": [
       "<Figure size 432x288 with 1 Axes>"
      ]
     },
     "metadata": {
      "needs_background": "light"
     },
     "output_type": "display_data"
    }
   ],
   "source": [
    "indx = 1\n",
    "image = all_images[indx,:,:]\n",
    "predict( model_deep, image, True )"
   ]
  },
  {
   "cell_type": "markdown",
   "metadata": {},
   "source": [
    "Let's try the same thing, but without using the convolutional networks:"
   ]
  },
  {
   "cell_type": "markdown",
   "metadata": {},
   "source": [
    "You can also make an analysis of your results in terms of different evaluation metrics by calling the function *classification_report*"
   ]
  },
  {
   "cell_type": "code",
   "execution_count": 20,
   "metadata": {
    "ExecuteTime": {
     "end_time": "2020-05-22T00:57:48.536996Z",
     "start_time": "2020-05-22T00:57:36.782759Z"
    }
   },
   "outputs": [],
   "source": [
    "from sklearn.metrics import classification_report\n",
    "\n",
    "results = []\n",
    "for indx in range(0, len(X_test)):\n",
    "    \n",
    "    image = X_test[indx,:,:,0]\n",
    "    r = predict( model_deep, image, False )\n",
    "    results.append(r)"
   ]
  },
  {
   "cell_type": "code",
   "execution_count": 21,
   "metadata": {
    "ExecuteTime": {
     "end_time": "2020-05-22T00:57:48.545241Z",
     "start_time": "2020-05-22T00:57:48.539013Z"
    }
   },
   "outputs": [
    {
     "name": "stdout",
     "output_type": "stream",
     "text": [
      "              precision    recall  f1-score   support\n",
      "\n",
      "NOT CRIMINAL       0.97      0.98      0.97       343\n",
      "    CRIMINAL       0.98      0.96      0.97       300\n",
      "\n",
      "    accuracy                           0.97       643\n",
      "   macro avg       0.97      0.97      0.97       643\n",
      "weighted avg       0.97      0.97      0.97       643\n",
      "\n"
     ]
    }
   ],
   "source": [
    "names=['NOT CRIMINAL', 'CRIMINAL']\n",
    "print(classification_report(y_test.values, results, target_names=names))"
   ]
  },
  {
   "cell_type": "markdown",
   "metadata": {},
   "source": [
    "You can also visuallize this, using the confusion matrix"
   ]
  },
  {
   "cell_type": "code",
   "execution_count": 22,
   "metadata": {
    "ExecuteTime": {
     "end_time": "2020-05-22T00:57:48.701647Z",
     "start_time": "2020-05-22T00:57:48.546782Z"
    }
   },
   "outputs": [
    {
     "data": {
      "image/png": "[encoded data removed]",
      "text/plain": [
       "<Figure size 432x288 with 2 Axes>"
      ]
     },
     "metadata": {
      "needs_background": "light"
     },
     "output_type": "display_data"
    }
   ],
   "source": [
    "from sklearn.metrics import confusion_matrix\n",
    "\n",
    "mat = confusion_matrix(y_test, results)\n",
    "sns.heatmap(mat.T, square=True, fmt='d', cbar=True, xticklabels=names, \\\n",
    "            yticklabels=names, annot=True)\n",
    "plt.xlabel('true label')\n",
    "plt.ylabel('predicted label');"
   ]
  },
  {
   "cell_type": "markdown",
   "metadata": {},
   "source": [
    "### Let's take a look at some pixels..."
   ]
  },
  {
   "cell_type": "code",
   "execution_count": 23,
   "metadata": {
    "ExecuteTime": {
     "end_time": "2020-05-22T00:57:48.714045Z",
     "start_time": "2020-05-22T00:57:48.706861Z"
    }
   },
   "outputs": [
    {
     "data": {
      "text/html": [
       "<div>\n",
       "<style scoped>\n",
       "    .dataframe tbody tr th:only-of-type {\n",
       "        vertical-align: middle;\n",
       "    }\n",
       "\n",
       "    .dataframe tbody tr th {\n",
       "        vertical-align: top;\n",
       "    }\n",
       "\n",
       "    .dataframe thead th {\n",
       "        text-align: right;\n",
       "    }\n",
       "</style>\n",
       "<table border=\"1\" class=\"dataframe\">\n",
       "  <thead>\n",
       "    <tr style=\"text-align: right;\">\n",
       "      <th></th>\n",
       "      <th>pixel_4092</th>\n",
       "      <th>pixel_4093</th>\n",
       "      <th>pixel_4094</th>\n",
       "      <th>pixel_4095</th>\n",
       "      <th>target</th>\n",
       "    </tr>\n",
       "  </thead>\n",
       "  <tbody>\n",
       "    <tr>\n",
       "      <td>0</td>\n",
       "      <td>0</td>\n",
       "      <td>0</td>\n",
       "      <td>0</td>\n",
       "      <td>0</td>\n",
       "      <td>1</td>\n",
       "    </tr>\n",
       "    <tr>\n",
       "      <td>2</td>\n",
       "      <td>0</td>\n",
       "      <td>0</td>\n",
       "      <td>0</td>\n",
       "      <td>0</td>\n",
       "      <td>1</td>\n",
       "    </tr>\n",
       "    <tr>\n",
       "      <td>4</td>\n",
       "      <td>0</td>\n",
       "      <td>0</td>\n",
       "      <td>0</td>\n",
       "      <td>0</td>\n",
       "      <td>1</td>\n",
       "    </tr>\n",
       "    <tr>\n",
       "      <td>5</td>\n",
       "      <td>0</td>\n",
       "      <td>0</td>\n",
       "      <td>0</td>\n",
       "      <td>0</td>\n",
       "      <td>1</td>\n",
       "    </tr>\n",
       "    <tr>\n",
       "      <td>6</td>\n",
       "      <td>0</td>\n",
       "      <td>0</td>\n",
       "      <td>0</td>\n",
       "      <td>0</td>\n",
       "      <td>1</td>\n",
       "    </tr>\n",
       "    <tr>\n",
       "      <td>7</td>\n",
       "      <td>0</td>\n",
       "      <td>0</td>\n",
       "      <td>0</td>\n",
       "      <td>0</td>\n",
       "      <td>1</td>\n",
       "    </tr>\n",
       "    <tr>\n",
       "      <td>8</td>\n",
       "      <td>0</td>\n",
       "      <td>0</td>\n",
       "      <td>0</td>\n",
       "      <td>0</td>\n",
       "      <td>1</td>\n",
       "    </tr>\n",
       "    <tr>\n",
       "      <td>9</td>\n",
       "      <td>0</td>\n",
       "      <td>0</td>\n",
       "      <td>0</td>\n",
       "      <td>0</td>\n",
       "      <td>1</td>\n",
       "    </tr>\n",
       "    <tr>\n",
       "      <td>10</td>\n",
       "      <td>0</td>\n",
       "      <td>0</td>\n",
       "      <td>0</td>\n",
       "      <td>0</td>\n",
       "      <td>1</td>\n",
       "    </tr>\n",
       "    <tr>\n",
       "      <td>11</td>\n",
       "      <td>0</td>\n",
       "      <td>0</td>\n",
       "      <td>0</td>\n",
       "      <td>0</td>\n",
       "      <td>1</td>\n",
       "    </tr>\n",
       "  </tbody>\n",
       "</table>\n",
       "</div>"
      ],
      "text/plain": [
       "    pixel_4092  pixel_4093  pixel_4094  pixel_4095  target\n",
       "0            0           0           0           0       1\n",
       "2            0           0           0           0       1\n",
       "4            0           0           0           0       1\n",
       "5            0           0           0           0       1\n",
       "6            0           0           0           0       1\n",
       "7            0           0           0           0       1\n",
       "8            0           0           0           0       1\n",
       "9            0           0           0           0       1\n",
       "10           0           0           0           0       1\n",
       "11           0           0           0           0       1"
      ]
     },
     "execution_count": 23,
     "metadata": {},
     "output_type": "execute_result"
    }
   ],
   "source": [
    "last_pixels = check_image_dataset( faces_dataset, \"target\" )\n",
    "\n",
    "# and let's separate between CRIMINAL taget = 1 ...\n",
    "criminal_last_pixels = last_pixels[ last_pixels[\"target\"] == 1 ]\n",
    "criminal_last_pixels.head(10)"
   ]
  },
  {
   "cell_type": "code",
   "execution_count": 24,
   "metadata": {
    "ExecuteTime": {
     "end_time": "2020-05-22T00:57:48.723809Z",
     "start_time": "2020-05-22T00:57:48.717525Z"
    }
   },
   "outputs": [
    {
     "data": {
      "text/html": [
       "<div>\n",
       "<style scoped>\n",
       "    .dataframe tbody tr th:only-of-type {\n",
       "        vertical-align: middle;\n",
       "    }\n",
       "\n",
       "    .dataframe tbody tr th {\n",
       "        vertical-align: top;\n",
       "    }\n",
       "\n",
       "    .dataframe thead th {\n",
       "        text-align: right;\n",
       "    }\n",
       "</style>\n",
       "<table border=\"1\" class=\"dataframe\">\n",
       "  <thead>\n",
       "    <tr style=\"text-align: right;\">\n",
       "      <th></th>\n",
       "      <th>pixel_4092</th>\n",
       "      <th>pixel_4093</th>\n",
       "      <th>pixel_4094</th>\n",
       "      <th>pixel_4095</th>\n",
       "      <th>target</th>\n",
       "    </tr>\n",
       "  </thead>\n",
       "  <tbody>\n",
       "    <tr>\n",
       "      <td>1</td>\n",
       "      <td>177</td>\n",
       "      <td>171</td>\n",
       "      <td>169</td>\n",
       "      <td>162</td>\n",
       "      <td>0</td>\n",
       "    </tr>\n",
       "    <tr>\n",
       "      <td>3</td>\n",
       "      <td>1</td>\n",
       "      <td>1</td>\n",
       "      <td>1</td>\n",
       "      <td>1</td>\n",
       "      <td>0</td>\n",
       "    </tr>\n",
       "    <tr>\n",
       "      <td>13</td>\n",
       "      <td>190</td>\n",
       "      <td>189</td>\n",
       "      <td>190</td>\n",
       "      <td>189</td>\n",
       "      <td>0</td>\n",
       "    </tr>\n",
       "    <tr>\n",
       "      <td>15</td>\n",
       "      <td>99</td>\n",
       "      <td>98</td>\n",
       "      <td>97</td>\n",
       "      <td>94</td>\n",
       "      <td>0</td>\n",
       "    </tr>\n",
       "    <tr>\n",
       "      <td>16</td>\n",
       "      <td>155</td>\n",
       "      <td>134</td>\n",
       "      <td>103</td>\n",
       "      <td>71</td>\n",
       "      <td>0</td>\n",
       "    </tr>\n",
       "    <tr>\n",
       "      <td>17</td>\n",
       "      <td>229</td>\n",
       "      <td>247</td>\n",
       "      <td>185</td>\n",
       "      <td>179</td>\n",
       "      <td>0</td>\n",
       "    </tr>\n",
       "    <tr>\n",
       "      <td>18</td>\n",
       "      <td>1</td>\n",
       "      <td>1</td>\n",
       "      <td>1</td>\n",
       "      <td>1</td>\n",
       "      <td>0</td>\n",
       "    </tr>\n",
       "    <tr>\n",
       "      <td>22</td>\n",
       "      <td>123</td>\n",
       "      <td>122</td>\n",
       "      <td>121</td>\n",
       "      <td>117</td>\n",
       "      <td>0</td>\n",
       "    </tr>\n",
       "    <tr>\n",
       "      <td>23</td>\n",
       "      <td>76</td>\n",
       "      <td>95</td>\n",
       "      <td>140</td>\n",
       "      <td>147</td>\n",
       "      <td>0</td>\n",
       "    </tr>\n",
       "    <tr>\n",
       "      <td>26</td>\n",
       "      <td>97</td>\n",
       "      <td>94</td>\n",
       "      <td>93</td>\n",
       "      <td>110</td>\n",
       "      <td>0</td>\n",
       "    </tr>\n",
       "  </tbody>\n",
       "</table>\n",
       "</div>"
      ],
      "text/plain": [
       "    pixel_4092  pixel_4093  pixel_4094  pixel_4095  target\n",
       "1          177         171         169         162       0\n",
       "3            1           1           1           1       0\n",
       "13         190         189         190         189       0\n",
       "15          99          98          97          94       0\n",
       "16         155         134         103          71       0\n",
       "17         229         247         185         179       0\n",
       "18           1           1           1           1       0\n",
       "22         123         122         121         117       0\n",
       "23          76          95         140         147       0\n",
       "26          97          94          93         110       0"
      ]
     },
     "execution_count": 24,
     "metadata": {},
     "output_type": "execute_result"
    }
   ],
   "source": [
    "# ... and NOT CRIMINAL target = 0\n",
    "ncriminal_last_pixels = last_pixels[ last_pixels[\"target\"] == 0 ]\n",
    "ncriminal_last_pixels.head(10)"
   ]
  },
  {
   "cell_type": "markdown",
   "metadata": {},
   "source": [
    "### What do you think about this?\n",
    "\n",
    "Answer:"
   ]
  },
  {
   "cell_type": "markdown",
   "metadata": {},
   "source": [
    "## Group Discussion:\n",
    "\n",
    "- Q1. What is the major problem with the design of this model?\n",
    "\n",
    "**Answer:**\n",
    "\n",
    "- Q2. What are the major consequences of the application of this model if people use it as a black box?\n",
    "\n",
    "**Answer:**\n",
    "\n",
    "- Q3. How could we do this correctly?\n",
    "\n",
    "**Answer:**\n",
    "\n"
   ]
  },
  {
   "cell_type": "markdown",
   "metadata": {},
   "source": [
    "## Ethical Concerns\n",
    "\n",
    "Let's imagine that a political consulting firm uses such algorithms to classify images of polticians and influencial religious leaders to help people understand if the person that they are voting or supporting is honest.\n",
    "\n",
    "Here are some controversial examples that our model classified:"
   ]
  },
  {
   "cell_type": "code",
   "execution_count": 25,
   "metadata": {
    "ExecuteTime": {
     "end_time": "2020-05-22T00:57:48.744205Z",
     "start_time": "2020-05-22T00:57:48.725141Z"
    }
   },
   "outputs": [
    {
     "ename": "NameError",
     "evalue": "name 'convert_image' is not defined",
     "output_type": "error",
     "traceback": [
      "\u001b[0;31m---------------------------------------------------------------------------\u001b[0m",
      "\u001b[0;31mNameError\u001b[0m                                 Traceback (most recent call last)",
      "\u001b[0;32m<ipython-input-25-4db8d5a56d16>\u001b[0m in \u001b[0;36m<module>\u001b[0;34m\u001b[0m\n\u001b[1;32m      3\u001b[0m \u001b[0;34m\u001b[0m\u001b[0m\n\u001b[1;32m      4\u001b[0m \u001b[0;31m# convert the image using the function convert_image\u001b[0m\u001b[0;34m\u001b[0m\u001b[0;34m\u001b[0m\u001b[0;34m\u001b[0m\u001b[0m\n\u001b[0;32m----> 5\u001b[0;31m \u001b[0mtest_image\u001b[0m \u001b[0;34m=\u001b[0m \u001b[0mconvert_image\u001b[0m\u001b[0;34m(\u001b[0m \u001b[0mimage_path\u001b[0m \u001b[0;34m)\u001b[0m\u001b[0;34m\u001b[0m\u001b[0;34m\u001b[0m\u001b[0m\n\u001b[0m\u001b[1;32m      6\u001b[0m \u001b[0;34m\u001b[0m\u001b[0m\n\u001b[1;32m      7\u001b[0m \u001b[0;31m# call the predict function using the deep learning model and your image\u001b[0m\u001b[0;34m\u001b[0m\u001b[0;34m\u001b[0m\u001b[0;34m\u001b[0m\u001b[0m\n",
      "\u001b[0;31mNameError\u001b[0m: name 'convert_image' is not defined"
     ]
    }
   ],
   "source": [
    "\n",
    "# upload an image for classification\n",
    "image_path = \"images/trump.jpg\"\n",
    "\n",
    "# convert the image using the function convert_image\n",
    "test_image = convert_image( image_path )\n",
    "\n",
    "# call the predict function using the deep learning model and your image\n",
    "p = predict( model_deep, test_image, True )"
   ]
  },
  {
   "cell_type": "code",
   "execution_count": null,
   "metadata": {
    "ExecuteTime": {
     "end_time": "2020-05-22T00:57:48.746823Z",
     "start_time": "2020-05-22T00:56:47.841Z"
    }
   },
   "outputs": [],
   "source": [
    "# upload an image for classification\n",
    "image_path = \"images/putin.jpeg\"\n",
    "\n",
    "# convert the image using the function convert_image\n",
    "test_image = convert_image( image_path )\n",
    "\n",
    "# call the predict function using the deep learning model and your image\n",
    "p = predict( model_deep, test_image, True )"
   ]
  },
  {
   "cell_type": "code",
   "execution_count": null,
   "metadata": {
    "ExecuteTime": {
     "end_time": "2020-05-22T00:57:48.747947Z",
     "start_time": "2020-05-22T00:56:47.843Z"
    }
   },
   "outputs": [],
   "source": [
    "# upload an image for classification\n",
    "image_path = \"images/pope.jpg\"\n",
    "\n",
    "# convert the image using the function convert_image\n",
    "test_image = convert_image( image_path )\n",
    "\n",
    "# call the predict function using the deep learning model and your image\n",
    "p = predict( model_deep, test_image, True )"
   ]
  },
  {
   "cell_type": "markdown",
   "metadata": {},
   "source": [
    "### Group Discussion:\n",
    "\n",
    "Each group will have to identify at least one ethical concern of this problem. This ethical concern can be related to the impact of the model in society, in politics, religion, technology, business, etc... This is already part of the Risk Assessment analysis\n",
    "\n",
    "**Answer**\n"
   ]
  },
  {
   "cell_type": "markdown",
   "metadata": {},
   "source": [
    "## Extra Materials\n",
    "\n",
    "The literature of machine learning is generally surounded by two types of machine learning algorithms: neural networks and support vector machines. Support vector machines (SVMs) classify data using an optimization function: the idea is to compute the support vectors (the bourdaries) of the data and then find a hyperplane that can separate it. \n",
    "\n",
    "In Python, you can implement a SVM very quickly using all the knowledge of machine learninig that you learned so far. For the curious students, you can explore this technique for image classification, in the following book:\n",
    "\n",
    " Python Data Science Handbook by Jake VanderPlas\n",
    " \n",
    " You can find a very good explanation of SVMs and examples of application here: <a href=\"https://jakevdp.github.io/PythonDataScienceHandbook/05.07-support-vector-machines.html\">SVMs</a>\n",
    " \n",
    " <a href=\"https://colab.research.google.com/github/jakevdp/PythonDataScienceHandbook/blob/master/notebooks/05.07-Support-Vector-Machines.ipynb#scrollTo=pCB4nIWVdikz\">Colab</a>\n",
    " \n",
    " The example covered is the classification of famous faces:\n",
    " \n",
    " <img src=\"./images/svm.png\" />"
   ]
  },
  {
   "cell_type": "code",
   "execution_count": null,
   "metadata": {},
   "outputs": [],
   "source": []
  }
 ],
 "metadata": {
  "kernelspec": {
   "display_name": "Python 3",
   "language": "python",
   "name": "python3"
  },
  "language_info": {
   "codemirror_mode": {
    "name": "ipython",
    "version": 3
   },
   "file_extension": ".py",
   "mimetype": "text/x-python",
   "name": "python",
   "nbconvert_exporter": "python",
   "pygments_lexer": "ipython3",
   "version": "3.7.4"
  },
  "toc": {
   "base_numbering": 1,
   "nav_menu": {},
   "number_sections": true,
   "sideBar": true,
   "skip_h1_title": false,
   "title_cell": "Table of Contents",
   "title_sidebar": "Contents",
   "toc_cell": false,
   "toc_position": {},
   "toc_section_display": true,
   "toc_window_display": false
  },
  "varInspector": {
   "cols": {
    "lenName": 16,
    "lenType": 16,
    "lenVar": 40
   },
   "kernels_config": {
    "python": {
     "delete_cmd_postfix": "",
     "delete_cmd_prefix": "del ",
     "library": "var_list.py",
     "varRefreshCmd": "print(var_dic_list())"
    },
    "r": {
     "delete_cmd_postfix": ") ",
     "delete_cmd_prefix": "rm(",
     "library": "var_list.r",
     "varRefreshCmd": "cat(var_dic_list()) "
    }
   },
   "types_to_exclude": [
    "module",
    "function",
    "builtin_function_or_method",
    "instance",
    "_Feature"
   ],
   "window_display": false
  }
 },
 "nbformat": 4,
 "nbformat_minor": 4
}
