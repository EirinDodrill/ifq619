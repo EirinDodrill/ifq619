{
 "cells": [
  {
   "cell_type": "markdown",
   "metadata": {},
   "source": [
    "# Module 2 - Data structures"
   ]
  },
  {
   "cell_type": "markdown",
   "metadata": {},
   "source": [
    "### Why consider structure in data?"
   ]
  },
  {
   "cell_type": "markdown",
   "metadata": {},
   "source": [
    "Structure in data helps us make meaning from that data and to be consistent and precise in using it.\n",
    "\n",
    "When data is structured, then we can program computational systems to compute using that data as long as the data adheres to the defined structure."
   ]
  },
  {
   "cell_type": "markdown",
   "metadata": {},
   "source": [
    "### Structured data\n",
    "\n",
    "For example, the idea of a spreadsheet allows us to make infer relationships between the cells based on rows and columns. This was possible with even the very first spreadsheets.\n",
    "\n",
    "<a title=\"By User:Gortu (apple2history.org) [Public domain], via Wikimedia Commons\" href=\"https://commons.wikimedia.org/wiki/File%3AVisicalc.png\"><img width=\"512\" alt=\"Visicalc\" src=\"https://upload.wikimedia.org/wikipedia/commons/7/7a/Visicalc.png\"/></a>\n",
    "\n",
    "*By User:Gortu (apple2history.org) \\[Public domain\\], via Wikimedia Commons*\n"
   ]
  },
  {
   "cell_type": "markdown",
   "metadata": {},
   "source": [
    "Even in this very simple example, we can make sense of this data, and because of the structure, the computer can work with the data, like calculating the costs for each row, calculating a subtotal, the tax, and the total. If the data in this spreadsheet was unstructured (for example written on a piece of paper), the computer would not be able to work with it."
   ]
  },
  {
   "cell_type": "markdown",
   "metadata": {},
   "source": [
    "Most structured data today is found in relational datatabase management systems (RDBMS), or commonly just refered to as databases. The structure is one of tables (like a spreadsheet) and relationships between them, but relating particular fields or columns in one table with those in another.\n",
    "\n",
    "<a data-flickr-embed=\"true\"  href=\"https://www.flickr.com/photos/14804582@N08/2111269218\" title=\"database schema\"><img src=\"https://farm3.staticflickr.com/2129/2111269218_950cf23a03_b.jpg\" width=\"1024\" height=\"953\" alt=\"database schema\"></a><script async src=\"//embedr.flickr.com/assets/client-code.js\" charset=\"utf-8\"></script>\n"
   ]
  },
  {
   "cell_type": "markdown",
   "metadata": {},
   "source": [
    "But these are not the only kinds of data structuring. Structured data is basically when the organisation of the data is pre-defined so that certain data is associated with certain labels.\n",
    "\n",
    "<p><a href=\"https://commons.wikimedia.org/wiki/File:Database_models.jpg#/media/File:Database_models.jpg\"><img src=\"https://upload.wikimedia.org/wikipedia/commons/thumb/3/3b/Database_models.jpg/1200px-Database_models.jpg\" alt=\"Database models.jpg\"></a><br>By <a href=\"//commons.wikimedia.org/wiki/User:Mdd\" title=\"User:Mdd\">Marcel Douwe Dekker</a> - <span class=\"int-own-work\" lang=\"en\">Own work</span>, <a href=\"https://creativecommons.org/licenses/by-sa/3.0\" title=\"Creative Commons Attribution-Share Alike 3.0\">CC BY-SA 3.0</a>, <a href=\"https://commons.wikimedia.org/w/index.php?curid=5679857\">Link</a></p>"
   ]
  },
  {
   "cell_type": "markdown",
   "metadata": {},
   "source": [
    "### Working with structured data\n",
    "\n",
    "We will work with structured data by mostly reading it from a file into a dataframe. One of the most common files for holding structured tabular data is the comma separated value (CSV) file. A spreadsheet table or a database table can be saved as a CSV file, which we can then import into a pandas dataframe. If you'd like more information on Pandas, try the [10 minutes to pandas](https://pandas.pydata.org/docs/getting_started/10min.html) tutorial.\n",
    "\n",
    "For the following example, we're going to use open data from [data.gov.au](data.gov.au) for [2016 SoE Biodiversity Cumulative historical extinctions of Australian mammal species](https://data.gov.au/data/dataset/2016-soe-biodiversity-cumulative-number-of-extinct-mammal-species). If you're interested, you can read about the data in [Terrestrial plant and animal species: Mammals](https://soe.environment.gov.au/theme/biodiversity/topic/2016/terrestrial-plant-and-animal-species-mammals#biodiversity-figure-BIO19)"
   ]
  },
  {
   "cell_type": "code",
   "execution_count": 18,
   "metadata": {
    "scrolled": true
   },
   "outputs": [
    {
     "data": {
      "text/html": [
       "<div>\n",
       "<style scoped>\n",
       "    .dataframe tbody tr th:only-of-type {\n",
       "        vertical-align: middle;\n",
       "    }\n",
       "\n",
       "    .dataframe tbody tr th {\n",
       "        vertical-align: top;\n",
       "    }\n",
       "\n",
       "    .dataframe thead th {\n",
       "        text-align: right;\n",
       "    }\n",
       "</style>\n",
       "<table border=\"1\" class=\"dataframe\">\n",
       "  <thead>\n",
       "    <tr style=\"text-align: right;\">\n",
       "      <th></th>\n",
       "      <th>Cumulative number of extinct mammal species</th>\n",
       "    </tr>\n",
       "    <tr>\n",
       "      <th>Decade</th>\n",
       "      <th></th>\n",
       "    </tr>\n",
       "  </thead>\n",
       "  <tbody>\n",
       "    <tr>\n",
       "      <th>1790</th>\n",
       "      <td>0</td>\n",
       "    </tr>\n",
       "    <tr>\n",
       "      <th>1800</th>\n",
       "      <td>0</td>\n",
       "    </tr>\n",
       "    <tr>\n",
       "      <th>1810</th>\n",
       "      <td>0</td>\n",
       "    </tr>\n",
       "    <tr>\n",
       "      <th>1820</th>\n",
       "      <td>0</td>\n",
       "    </tr>\n",
       "    <tr>\n",
       "      <th>1830</th>\n",
       "      <td>0</td>\n",
       "    </tr>\n",
       "    <tr>\n",
       "      <th>1840</th>\n",
       "      <td>1</td>\n",
       "    </tr>\n",
       "    <tr>\n",
       "      <th>1850</th>\n",
       "      <td>3</td>\n",
       "    </tr>\n",
       "    <tr>\n",
       "      <th>1860</th>\n",
       "      <td>5</td>\n",
       "    </tr>\n",
       "    <tr>\n",
       "      <th>1870</th>\n",
       "      <td>7</td>\n",
       "    </tr>\n",
       "    <tr>\n",
       "      <th>1880</th>\n",
       "      <td>8</td>\n",
       "    </tr>\n",
       "    <tr>\n",
       "      <th>1890</th>\n",
       "      <td>9</td>\n",
       "    </tr>\n",
       "    <tr>\n",
       "      <th>1900</th>\n",
       "      <td>14</td>\n",
       "    </tr>\n",
       "    <tr>\n",
       "      <th>1910</th>\n",
       "      <td>14</td>\n",
       "    </tr>\n",
       "    <tr>\n",
       "      <th>1920</th>\n",
       "      <td>15</td>\n",
       "    </tr>\n",
       "    <tr>\n",
       "      <th>1930</th>\n",
       "      <td>18</td>\n",
       "    </tr>\n",
       "    <tr>\n",
       "      <th>1940</th>\n",
       "      <td>18</td>\n",
       "    </tr>\n",
       "    <tr>\n",
       "      <th>1950</th>\n",
       "      <td>22</td>\n",
       "    </tr>\n",
       "    <tr>\n",
       "      <th>1960</th>\n",
       "      <td>24</td>\n",
       "    </tr>\n",
       "    <tr>\n",
       "      <th>1970</th>\n",
       "      <td>25</td>\n",
       "    </tr>\n",
       "    <tr>\n",
       "      <th>1980</th>\n",
       "      <td>25</td>\n",
       "    </tr>\n",
       "    <tr>\n",
       "      <th>1990</th>\n",
       "      <td>25</td>\n",
       "    </tr>\n",
       "    <tr>\n",
       "      <th>2000</th>\n",
       "      <td>26</td>\n",
       "    </tr>\n",
       "    <tr>\n",
       "      <th>2010</th>\n",
       "      <td>27</td>\n",
       "    </tr>\n",
       "  </tbody>\n",
       "</table>\n",
       "</div>"
      ],
      "text/plain": [
       "        Cumulative number of extinct mammal species\n",
       "Decade                                             \n",
       "1790                                              0\n",
       "1800                                              0\n",
       "1810                                              0\n",
       "1820                                              0\n",
       "1830                                              0\n",
       "1840                                              1\n",
       "1850                                              3\n",
       "1860                                              5\n",
       "1870                                              7\n",
       "1880                                              8\n",
       "1890                                              9\n",
       "1900                                             14\n",
       "1910                                             14\n",
       "1920                                             15\n",
       "1930                                             18\n",
       "1940                                             18\n",
       "1950                                             22\n",
       "1960                                             24\n",
       "1970                                             25\n",
       "1980                                             25\n",
       "1990                                             25\n",
       "2000                                             26\n",
       "2010                                             27"
      ]
     },
     "execution_count": 18,
     "metadata": {},
     "output_type": "execute_result"
    }
   ],
   "source": [
    "# To use pandas, we need to import it (normally as 'pd')\n",
    "import pandas as pd\n",
    "\n",
    "# We can then open a CSV file into a new dataframe\n",
    "url = \"https://data.gov.au/dataset/c02731e8-5327-4720-bbc7-1fe67350a569/resource/8339c2b4-c763-4c50-a647-63935537453c/download/cumulative-number-of-extinct-mammal-species.csv\"\n",
    "df = pd.read_csv(url,index_col=\"Decade\")\n",
    "\n",
    "# view the dataframe\n",
    "df"
   ]
  },
  {
   "cell_type": "code",
   "execution_count": 19,
   "metadata": {},
   "outputs": [],
   "source": [
    "# We can save our dataframe to use later\n",
    "\n",
    "df.to_csv('data/extinct_aus_mammals.csv')\n"
   ]
  },
  {
   "cell_type": "code",
   "execution_count": 21,
   "metadata": {
    "scrolled": true
   },
   "outputs": [
    {
     "data": {
      "text/html": [
       "<div>\n",
       "<style scoped>\n",
       "    .dataframe tbody tr th:only-of-type {\n",
       "        vertical-align: middle;\n",
       "    }\n",
       "\n",
       "    .dataframe tbody tr th {\n",
       "        vertical-align: top;\n",
       "    }\n",
       "\n",
       "    .dataframe thead th {\n",
       "        text-align: right;\n",
       "    }\n",
       "</style>\n",
       "<table border=\"1\" class=\"dataframe\">\n",
       "  <thead>\n",
       "    <tr style=\"text-align: right;\">\n",
       "      <th></th>\n",
       "      <th>Cumulative number of extinct mammal species</th>\n",
       "    </tr>\n",
       "    <tr>\n",
       "      <th>Decade</th>\n",
       "      <th></th>\n",
       "    </tr>\n",
       "  </thead>\n",
       "  <tbody>\n",
       "    <tr>\n",
       "      <th>1790</th>\n",
       "      <td>0</td>\n",
       "    </tr>\n",
       "    <tr>\n",
       "      <th>1800</th>\n",
       "      <td>0</td>\n",
       "    </tr>\n",
       "    <tr>\n",
       "      <th>1810</th>\n",
       "      <td>0</td>\n",
       "    </tr>\n",
       "    <tr>\n",
       "      <th>1820</th>\n",
       "      <td>0</td>\n",
       "    </tr>\n",
       "    <tr>\n",
       "      <th>1830</th>\n",
       "      <td>0</td>\n",
       "    </tr>\n",
       "    <tr>\n",
       "      <th>1840</th>\n",
       "      <td>1</td>\n",
       "    </tr>\n",
       "    <tr>\n",
       "      <th>1850</th>\n",
       "      <td>3</td>\n",
       "    </tr>\n",
       "    <tr>\n",
       "      <th>1860</th>\n",
       "      <td>5</td>\n",
       "    </tr>\n",
       "    <tr>\n",
       "      <th>1870</th>\n",
       "      <td>7</td>\n",
       "    </tr>\n",
       "    <tr>\n",
       "      <th>1880</th>\n",
       "      <td>8</td>\n",
       "    </tr>\n",
       "    <tr>\n",
       "      <th>1890</th>\n",
       "      <td>9</td>\n",
       "    </tr>\n",
       "    <tr>\n",
       "      <th>1900</th>\n",
       "      <td>14</td>\n",
       "    </tr>\n",
       "    <tr>\n",
       "      <th>1910</th>\n",
       "      <td>14</td>\n",
       "    </tr>\n",
       "    <tr>\n",
       "      <th>1920</th>\n",
       "      <td>15</td>\n",
       "    </tr>\n",
       "    <tr>\n",
       "      <th>1930</th>\n",
       "      <td>18</td>\n",
       "    </tr>\n",
       "    <tr>\n",
       "      <th>1940</th>\n",
       "      <td>18</td>\n",
       "    </tr>\n",
       "    <tr>\n",
       "      <th>1950</th>\n",
       "      <td>22</td>\n",
       "    </tr>\n",
       "    <tr>\n",
       "      <th>1960</th>\n",
       "      <td>24</td>\n",
       "    </tr>\n",
       "    <tr>\n",
       "      <th>1970</th>\n",
       "      <td>25</td>\n",
       "    </tr>\n",
       "    <tr>\n",
       "      <th>1980</th>\n",
       "      <td>25</td>\n",
       "    </tr>\n",
       "    <tr>\n",
       "      <th>1990</th>\n",
       "      <td>25</td>\n",
       "    </tr>\n",
       "    <tr>\n",
       "      <th>2000</th>\n",
       "      <td>26</td>\n",
       "    </tr>\n",
       "    <tr>\n",
       "      <th>2010</th>\n",
       "      <td>27</td>\n",
       "    </tr>\n",
       "  </tbody>\n",
       "</table>\n",
       "</div>"
      ],
      "text/plain": [
       "        Cumulative number of extinct mammal species\n",
       "Decade                                             \n",
       "1790                                              0\n",
       "1800                                              0\n",
       "1810                                              0\n",
       "1820                                              0\n",
       "1830                                              0\n",
       "1840                                              1\n",
       "1850                                              3\n",
       "1860                                              5\n",
       "1870                                              7\n",
       "1880                                              8\n",
       "1890                                              9\n",
       "1900                                             14\n",
       "1910                                             14\n",
       "1920                                             15\n",
       "1930                                             18\n",
       "1940                                             18\n",
       "1950                                             22\n",
       "1960                                             24\n",
       "1970                                             25\n",
       "1980                                             25\n",
       "1990                                             25\n",
       "2000                                             26\n",
       "2010                                             27"
      ]
     },
     "execution_count": 21,
     "metadata": {},
     "output_type": "execute_result"
    }
   ],
   "source": [
    "# The saved version can be loaded in the same way as the original URL\n",
    "\n",
    "df2 = pd.read_csv('data/extinct_aus_mammals.csv',index_col=\"Decade\")\n",
    "df2"
   ]
  },
  {
   "cell_type": "markdown",
   "metadata": {},
   "source": [
    "### Unstructured data\n",
    "\n",
    "Humans can make meaning from data without necessarily having pre-defined structure. In fact we frequently use very ill-defined structures to organise and communicate our thinking. We are also adept at creating these kinds of structures as required, in the moment, rather than requiring the data be structured before we can make sense of it.\n",
    "\n",
    "<p><a href=\"https://commons.wikimedia.org/wiki/File:Coggle_Document.png#/media/File:Coggle_Document.png\"><img src=\"https://upload.wikimedia.org/wikipedia/commons/1/19/Coggle_Document.png\" alt=\"Coggle Document.png\"></a><br>By <a href=\"https://en.wikipedia.org/wiki/User:Lurched95\" class=\"extiw\" title=\"en:User:Lurched95\">User:Lurched95</a>, <a href=\"https://creativecommons.org/licenses/by-sa/3.0\" title=\"Creative Commons Attribution-Share Alike 3.0\">CC BY-SA 3.0</a>, <a href=\"https://commons.wikimedia.org/w/index.php?curid=33923406\">Link</a></p>\n"
   ]
  },
  {
   "cell_type": "markdown",
   "metadata": {},
   "source": [
    "Computers are not so adept, so complex in the moment sense-making tasks on unstructured data are often easy for humans but very challenging for computers.\n",
    "\n",
    "<img src=\"https://static.boredpanda.com/blog/wp-content/uploads/2016/03/dog-food-comparison-bagel-muffin-lookalike-teenybiscuit-karen-zack-5__700.jpg\">\n",
    "\n",
    "[Puppies or Food (boredpanda.com March 2016)](https://www.boredpanda.com/dog-food-comparison-bagel-muffin-lookalike-teenybiscuit-karen-zack/)"
   ]
  },
  {
   "cell_type": "markdown",
   "metadata": {},
   "source": [
    "### Kinds of structuring of data\n",
    "\n",
    "In order for us to perform data analysis on unstructured data, we will usually need to do some structuring of it, and this frequently results in semi-structured data. \n",
    "\n",
    "The 3 different kinds of structuring can be summarised as:\n",
    "\n",
    "* **Structured** $\\Rightarrow$ when the structure is pre-defined\n",
    "* **Structured** $\\Rightarrow$ is almost synonymous with 'stored in a RDMS', but can also exist in other software\n",
    "* **Unstructured** $\\leadsto$ when there is no pre-defined structure, or can't easily be conformed to a structure\n",
    "* **Unstructured** $\\leadsto$ commonly raw text, but also images, video, audio\n",
    "* **Unstructured** $\\leadsto$ can appear to have some kind of structure, but often that appearence is derived from our understanding, not from the data itself\n",
    "* **Semi-structured** $\\rightarrow$ the data can be stored in defined structure, but the actual instance of the structure is not predefined"
   ]
  },
  {
   "cell_type": "markdown",
   "metadata": {},
   "source": [
    "### Semi-structured data\n",
    "\n",
    "Semi-structured data is a lot more prevalent than structured data, but the computational tools are not as mature as structured data tools. Most semi-structured data tools have come about with the advent of the internet and then social media."
   ]
  },
  {
   "cell_type": "markdown",
   "metadata": {},
   "source": [
    "### Working with semi-structured data\n",
    "\n",
    "We will work with semi-structured data mostly by (a) creating it from plain text which is read from a file, or (b) importing the data from a JSON file.\n",
    "\n",
    "JSON is a way of labelling data, but without requiring all data to be the same or without requiring the structure to be fixed in advance.\n",
    "\n",
    "\n"
   ]
  },
  {
   "cell_type": "markdown",
   "metadata": {},
   "source": [
    "#### Reading plain text files"
   ]
  },
  {
   "cell_type": "code",
   "execution_count": 23,
   "metadata": {},
   "outputs": [],
   "source": [
    "# Read in a plain text file\n",
    "with open('data/simple_text_file.txt', 'r') as file:\n",
    "    text = file.read()"
   ]
  },
  {
   "cell_type": "code",
   "execution_count": 24,
   "metadata": {},
   "outputs": [
    {
     "data": {
      "text/plain": [
       "'This is a text file with only 2 lines.\\nThe second line!'"
      ]
     },
     "execution_count": 24,
     "metadata": {},
     "output_type": "execute_result"
    }
   ],
   "source": [
    "# Show the string that was read from the file\n",
    "text"
   ]
  },
  {
   "cell_type": "code",
   "execution_count": 26,
   "metadata": {},
   "outputs": [],
   "source": [
    "# We can read the text in a semi-structured format by taking advantage of the lines in the file\n",
    "with open('data/simple_text_file.txt', 'r') as file:\n",
    "    text_lines = file.readlines()"
   ]
  },
  {
   "cell_type": "code",
   "execution_count": 27,
   "metadata": {},
   "outputs": [
    {
     "data": {
      "text/plain": [
       "['This is a text file with only 2 lines.\\n', 'The second line!']"
      ]
     },
     "execution_count": 27,
     "metadata": {},
     "output_type": "execute_result"
    }
   ],
   "source": [
    "# Show the list that was read from the file\n",
    "text_lines"
   ]
  },
  {
   "cell_type": "code",
   "execution_count": 28,
   "metadata": {},
   "outputs": [
    {
     "data": {
      "text/plain": [
       "['This is a text file with only 2 lines.', 'The second line!']"
      ]
     },
     "execution_count": 28,
     "metadata": {},
     "output_type": "execute_result"
    }
   ],
   "source": [
    "# We can also create the list, by splitting the original string\n",
    "lines = text.split('\\n')\n",
    "\n",
    "# view the list\n",
    "lines"
   ]
  },
  {
   "cell_type": "markdown",
   "metadata": {},
   "source": [
    "#### Reading JSON"
   ]
  },
  {
   "cell_type": "code",
   "execution_count": 33,
   "metadata": {},
   "outputs": [],
   "source": [
    "# We need the JSON library\n",
    "import json\n",
    "\n",
    "# Read a JSON file like text, but with conversion to python dictionary\n",
    "with open('data/simple_json_file.json', 'r') as file:\n",
    "    json_data = json.load(file)"
   ]
  },
  {
   "cell_type": "code",
   "execution_count": 34,
   "metadata": {},
   "outputs": [
    {
     "data": {
      "text/plain": [
       "{'Key 1': 'The first value that goes with Key 1',\n",
       " 'Second key': 'Json data that goes with the second key',\n",
       " '3rd_key': ['This',\n",
       "  'is',\n",
       "  'a',\n",
       "  'json',\n",
       "  'list',\n",
       "  'and',\n",
       "  'value',\n",
       "  'for',\n",
       "  '3rd key']}"
      ]
     },
     "execution_count": 34,
     "metadata": {},
     "output_type": "execute_result"
    }
   ],
   "source": [
    "# View the json data\n",
    "json_data"
   ]
  },
  {
   "cell_type": "code",
   "execution_count": 35,
   "metadata": {},
   "outputs": [],
   "source": [
    "# You can also load json data from a URL\n",
    "import requests\n",
    "\n",
    "# We can load data about the CSV on extinct mammals that we loaded above\n",
    "mammal_url = \"https://data.gov.au/api/3/action/package_show?id=c02731e8-5327-4720-bbc7-1fe67350a569\"\n",
    "content = requests.get(mammal_url)\n",
    "mammal_data = json.loads(content.content)"
   ]
  },
  {
   "cell_type": "code",
   "execution_count": 40,
   "metadata": {
    "scrolled": true
   },
   "outputs": [
    {
     "data": {
      "text/plain": [
       "{'help': 'https://data.gov.au/data/api/3/action/help_show?name=package_show',\n",
       " 'success': True,\n",
       " 'result': {'license_title': 'Creative Commons Attribution 4.0 International',\n",
       "  'maintainer': 'soe',\n",
       "  'relationships_as_object': [],\n",
       "  'jurisdiction': 'Commonwealth of Australia',\n",
       "  'temporal_coverage_to': '2010-00-00',\n",
       "  'private': False,\n",
       "  'maintainer_email': None,\n",
       "  'num_tags': 10,\n",
       "  'geospatial_topic': [],\n",
       "  'id': 'c02731e8-5327-4720-bbc7-1fe67350a569',\n",
       "  'metadata_created': '2016-10-13T05:31:05.905629',\n",
       "  'spatial_coverage': 'Australia',\n",
       "  'metadata_modified': '2018-12-21T04:48:53.097284',\n",
       "  'author': 'CSIRO Publishing',\n",
       "  'author_email': None,\n",
       "  'state': 'active',\n",
       "  'version': None,\n",
       "  'license_id': 'cc-by-4.0',\n",
       "  'contact_point': 'soe@environment.gov.au',\n",
       "  'type': 'dataset',\n",
       "  'resources': [{'mimetype': None,\n",
       "    'cache_url': None,\n",
       "    'hash': '',\n",
       "    'description': 'Source: Woinarski, JCZ, Burbidge, AA & Harrison PL (2014 edition). The action plan for Australian mammals 2012, CSIRO Publishing, Melbourne.\\r\\n\\r\\nNote: The extinction of 3 species—Bettongia pusilla, Conilurus capricornensis and Pseudomys glaucus—cannot be readily and reliably dated, and these are not included in the data.',\n",
       "    'name': 'BIO19 Cumulative historical extinctions of Australian mammal species',\n",
       "    'format': 'CSV',\n",
       "    'url': 'https://data.gov.au/dataset/c02731e8-5327-4720-bbc7-1fe67350a569/resource/8339c2b4-c763-4c50-a647-63935537453c/download/cumulative-number-of-extinct-mammal-species.csv',\n",
       "    'datastore_active': True,\n",
       "    'cache_last_updated': None,\n",
       "    'package_id': 'c02731e8-5327-4720-bbc7-1fe67350a569',\n",
       "    'created': '2016-10-13T16:31:36.178357',\n",
       "    'state': 'active',\n",
       "    'mimetype_inner': None,\n",
       "    'last_modified': '2016-10-13T05:31:36.058720',\n",
       "    'position': 0,\n",
       "    'wms_layer': '',\n",
       "    'revision_id': 'c28636a1-f456-4973-9fb9-a0ee86261392',\n",
       "    'url_type': 'upload',\n",
       "    'id': '8339c2b4-c763-4c50-a647-63935537453c',\n",
       "    'resource_type': None,\n",
       "    'size': None}],\n",
       "  'num_resources': 1,\n",
       "  'tags': [{'vocabulary_id': None,\n",
       "    'state': 'active',\n",
       "    'display_name': '2016',\n",
       "    'id': '1cdd2af1-833e-411c-8003-485b677d2f4d',\n",
       "    'name': '2016'},\n",
       "   {'vocabulary_id': None,\n",
       "    'state': 'active',\n",
       "    'display_name': '2016 SoE',\n",
       "    'id': '662eb96b-dedd-482a-bbed-6fe51a4783cb',\n",
       "    'name': '2016 SoE'},\n",
       "   {'vocabulary_id': None,\n",
       "    'state': 'active',\n",
       "    'display_name': 'Action Plan for Australian mammals',\n",
       "    'id': 'ab2fae4a-f38a-46b9-bd3b-f62f2b21aea5',\n",
       "    'name': 'Action Plan for Australian mammals'},\n",
       "   {'vocabulary_id': None,\n",
       "    'state': 'active',\n",
       "    'display_name': 'Biodiversity',\n",
       "    'id': '655e233e-355c-4311-b3ac-a06db4a3c237',\n",
       "    'name': 'Biodiversity'},\n",
       "   {'vocabulary_id': None,\n",
       "    'state': 'active',\n",
       "    'display_name': 'SoE',\n",
       "    'id': '6752f3e8-9a7a-4ffe-b9e7-9fce46be330f',\n",
       "    'name': 'SoE'},\n",
       "   {'vocabulary_id': None,\n",
       "    'state': 'active',\n",
       "    'display_name': 'SoE Graph',\n",
       "    'id': 'ff1d16f8-8dfa-4c65-8bfc-3c5d53e0c385',\n",
       "    'name': 'SoE Graph'},\n",
       "   {'vocabulary_id': None,\n",
       "    'state': 'active',\n",
       "    'display_name': 'State of the Environment',\n",
       "    'id': 'bfdd0f69-272e-49a1-b3b9-cabb8f586348',\n",
       "    'name': 'State of the Environment'},\n",
       "   {'vocabulary_id': None,\n",
       "    'state': 'active',\n",
       "    'display_name': 'extinct',\n",
       "    'id': 'eef7a30a-2cec-4932-baf4-6ccf8d981b4b',\n",
       "    'name': 'extinct'},\n",
       "   {'vocabulary_id': None,\n",
       "    'state': 'active',\n",
       "    'display_name': 'mammals',\n",
       "    'id': '74b1d415-25b1-49f2-9274-b9626838f1c4',\n",
       "    'name': 'mammals'},\n",
       "   {'vocabulary_id': None,\n",
       "    'state': 'active',\n",
       "    'display_name': 'species',\n",
       "    'id': '2634e534-e803-4ea8-934d-50f936cf9073',\n",
       "    'name': 'species'}],\n",
       "  'temporal_coverage_from': '1780-00-00',\n",
       "  'language': 'English',\n",
       "  'groups': [],\n",
       "  'creator_user_id': 'dd537e79-7dfd-4a78-9110-8a42785bad1a',\n",
       "  'relationships_as_subject': [],\n",
       "  'field_of_research': [],\n",
       "  'organization': {'description': '',\n",
       "   'created': '2016-01-21T17:05:45.618925',\n",
       "   'title': 'State of the Environment',\n",
       "   'name': 'state-of-the-environment',\n",
       "   'is_organization': True,\n",
       "   'state': 'active',\n",
       "   'image_url': '2017-01-25-001455.510982SOE2016LogoColour.png',\n",
       "   'revision_id': 'cad58d18-15cb-44ce-abc1-68e7bc51aef6',\n",
       "   'type': 'organization',\n",
       "   'id': 'c416b1b6-1ea1-47c3-b44a-b4586bee6e58',\n",
       "   'approval_status': 'approved'},\n",
       "  'name': '2016-soe-biodiversity-cumulative-number-of-extinct-mammal-species',\n",
       "  'isopen': True,\n",
       "  'url': None,\n",
       "  'notes': 'Data on cumulative historical extinctions of Australian mammal species - according to the Action Plan for Australian Mammals (2014 edition) by John Woinarksi, Andrew Burbidge and Peter Harrison. CSIRO Publishing.\\r\\n\\r\\nThis data was used by the Department of Environment and Energy to produce Figure BIO19 in the Biodiversity theme of Australia State of the Environment 2016, available at \\r\\nhttps://soe.environment.gov.au/theme/biodiversity/topic/2016/terrestrial-plant-and-animal-species-mammals#biodiversity-figure-BIO19\\r\\n',\n",
       "  'owner_org': 'c416b1b6-1ea1-47c3-b44a-b4586bee6e58',\n",
       "  'license_url': 'http://creativecommons.org/licenses/by/4.0',\n",
       "  'data_state': 'active',\n",
       "  'title': '2016 SoE Biodiversity Cumulative historical extinctions of Australian mammal species',\n",
       "  'revision_id': '2163f2db-d3b8-42c8-af28-d5f303993c02',\n",
       "  'update_freq': 'infrequently'}}"
      ]
     },
     "execution_count": 40,
     "metadata": {},
     "output_type": "execute_result"
    }
   ],
   "source": [
    "# view the result\n",
    "mammal_data"
   ]
  },
  {
   "cell_type": "code",
   "execution_count": 41,
   "metadata": {},
   "outputs": [
    {
     "data": {
      "text/plain": [
       "'Data on cumulative historical extinctions of Australian mammal species - according to the Action Plan for Australian Mammals (2014 edition) by John Woinarksi, Andrew Burbidge and Peter Harrison. CSIRO Publishing.\\r\\n\\r\\nThis data was used by the Department of Environment and Energy to produce Figure BIO19 in the Biodiversity theme of Australia State of the Environment 2016, available at \\r\\nhttps://soe.environment.gov.au/theme/biodiversity/topic/2016/terrestrial-plant-and-animal-species-mammals#biodiversity-figure-BIO19\\r\\n'"
      ]
     },
     "execution_count": 41,
     "metadata": {},
     "output_type": "execute_result"
    }
   ],
   "source": [
    "# since the result is a dictionary, we can the value for one particular key\n",
    "mammal_data[\"result\"][\"notes\"]"
   ]
  },
  {
   "cell_type": "code",
   "execution_count": 45,
   "metadata": {},
   "outputs": [
    {
     "name": "stdout",
     "output_type": "stream",
     "text": [
      "Data on cumulative historical extinctions of Australian mammal species - according to the Action Plan for Australian Mammals (2014 edition) by John Woinarksi, Andrew Burbidge and Peter Harrison. CSIRO Publishing.\n",
      "\n",
      "This data was used by the Department of Environment and Energy to produce Figure BIO19 in the Biodiversity theme of Australia State of the Environment 2016, available at \n",
      "https://soe.environment.gov.au/theme/biodiversity/topic/2016/terrestrial-plant-and-animal-species-mammals#biodiversity-figure-BIO19\n",
      "\n"
     ]
    }
   ],
   "source": [
    "# we can take this data and structure it further\n",
    "\n",
    "notes = mammal_data[\"result\"][\"notes\"]\n",
    "struct_notes = notes.split('\\r\\n')\n",
    "for note in struct_notes:\n",
    "    print(note)"
   ]
  },
  {
   "cell_type": "code",
   "execution_count": null,
   "metadata": {},
   "outputs": [],
   "source": []
  }
 ],
 "metadata": {
  "kernelspec": {
   "display_name": "Python 3",
   "language": "python",
   "name": "python3"
  },
  "language_info": {
   "codemirror_mode": {
    "name": "ipython",
    "version": 3
   },
   "file_extension": ".py",
   "mimetype": "text/x-python",
   "name": "python",
   "nbconvert_exporter": "python",
   "pygments_lexer": "ipython3",
   "version": "3.7.6"
  }
 },
 "nbformat": 4,
 "nbformat_minor": 4
}
